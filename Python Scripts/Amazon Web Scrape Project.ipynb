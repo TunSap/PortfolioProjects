{
 "cells": [
  {
   "cell_type": "code",
   "execution_count": 1,
   "metadata": {},
   "outputs": [],
   "source": [
    "from bs4 import BeautifulSoup\n",
    "import requests\n",
    "import time\n",
    "import datetime\n",
    "import smtplib"
   ]
  },
  {
   "cell_type": "code",
   "execution_count": 2,
   "metadata": {},
   "outputs": [
    {
     "name": "stdout",
     "output_type": "stream",
     "text": [
      "\n",
      "             Amazon Fire TV Stick 4K (newest model) with AI-powered Fire TV Search, Wi-Fi 6, stream over 1.5 million movies and shows, free & live TV\n",
      "            \n",
      "\n",
      "\n",
      "\n",
      "\n",
      "\n",
      "                           $27.99\n",
      "                          \n",
      "\n",
      "\n",
      "                            $\n",
      "                           \n",
      "\n",
      "                            27\n",
      "                            \n",
      "                             .\n",
      "                            \n",
      "\n",
      "\n",
      "                            99\n",
      "                           \n",
      "\n",
      "\n",
      "\n",
      "\n",
      "\n",
      "\n",
      "\n"
     ]
    }
   ],
   "source": [
    "# Connect to Website\n",
    "\n",
    "URL = \"https://www.amazon.com/Amazon-Fire-TV-Stick-4K-streaming-device/dp/B0CJM1GNFQ/ref=hw_24_h_dagw_d?pf_rd_p=3fdd9e6f-6d3e-4455-a02a-eeabce720632&pf_rd_r=54NMA1M09MD10NRF6GFH&sr=1-9-536c0d5e-79ba-421d-8970-56de02a627ab&ufe=INHOUSE_INSTALLMENTS%3AUS_IHI_5M_DEVICES\"\n",
    "\n",
    "headers = {\"User-Agent\": \"Mozilla/5.0 (Windows NT 10.0; Win64; x64) AppleWebKit/537.36 (KHTML, like Gecko) Chrome/131.0.0.0 Safari/537.36\", \"Accept-Encoding\":\"gzip, deflate\", \"Accept\":\"text/html,application/xhtml+xml,application/xml;q=0.9,*/*;q=0.8\", \"DNT\":\"1\",\"Connection\":\"close\", \"Upgrade-Insecure-Requests\":\"1\"}\n",
    "\n",
    "page = requests.get(URL, headers = headers)\n",
    "\n",
    "soup1 = BeautifulSoup(page.content,\"html.parser\")\n",
    "\n",
    "soup2 = BeautifulSoup(soup1.prettify(),'html.parser')\n",
    "\n",
    "title = soup2.find(id= 'productTitle').get_text()\n",
    "\n",
    "price = soup2.find(id = 'corePrice_feature_div').get_text()\n",
    "\n",
    "print(title)\n",
    "print(price)\n",
    "\n",
    "\n"
   ]
  },
  {
   "cell_type": "code",
   "execution_count": 3,
   "metadata": {},
   "outputs": [
    {
     "name": "stdout",
     "output_type": "stream",
     "text": [
      "Amazon Fire TV Stick 4K (newest model) with AI-powered Fire TV Search, Wi-Fi 6, stream over 1.5 million movies and shows, free & live TV\n",
      "$27.99\n"
     ]
    }
   ],
   "source": [
    "# Clean up web scraped data\n",
    "\n",
    "cleaned_title = title.strip()\n",
    "\n",
    "cleaned_price = price.strip()[:6]\n",
    "\n",
    "print(cleaned_title)\n",
    "print(cleaned_price)\n",
    "\n",
    "title= cleaned_title\n",
    "price = cleaned_price"
   ]
  },
  {
   "cell_type": "code",
   "execution_count": 4,
   "metadata": {},
   "outputs": [
    {
     "name": "stdout",
     "output_type": "stream",
     "text": [
      "2024-12-20\n"
     ]
    }
   ],
   "source": [
    "# Create a Timestamp to track when data was collected\n",
    "\n",
    "import datetime\n",
    "\n",
    "today = datetime.date.today()\n",
    "\n",
    "print(today)"
   ]
  },
  {
   "cell_type": "code",
   "execution_count": 5,
   "metadata": {},
   "outputs": [],
   "source": [
    "# Create CSV and write headers and data into the file\n",
    "\n",
    "import csv \n",
    "\n",
    "header = ['Title', 'Price', 'Date']\n",
    "data = [title, price, today]\n",
    "\n",
    "#with open('AmazonWebDataset.csv', 'w', newline='', encoding='UTF8') as f:\n",
    "#    writer= csv.writer(f)\n",
    "#    writer.writerow(header)\n",
    " #   writer.writerow(data)"
   ]
  },
  {
   "cell_type": "code",
   "execution_count": 6,
   "metadata": {},
   "outputs": [
    {
     "name": "stdout",
     "output_type": "stream",
     "text": [
      "                                               Title   Price        Date\n",
      "0  Amazon Fire TV Stick 4K (newest model) with AI...  $27.99  2024-12-20\n",
      "1  Amazon Fire TV Stick 4K (newest model) with AI...  $27.99  2024-12-20\n"
     ]
    }
   ],
   "source": [
    "import pandas as pd\n",
    "\n",
    "df = pd.read_csv(r\"C:\\Users\\lasap\\OneDrive\\Documents\\Amazon Web Scraper\\AmazonWebDataset.csv\")\n",
    "\n",
    "print(df)"
   ]
  },
  {
   "cell_type": "code",
   "execution_count": 7,
   "metadata": {},
   "outputs": [],
   "source": [
    "#Appending data to the csv\n",
    "with open('AmazonWebDataset.csv', 'a+', newline='', encoding='UTF8') as f:\n",
    "    writer= csv.writer(f)\n",
    "    writer.writerow(data)"
   ]
  },
  {
   "cell_type": "code",
   "execution_count": 8,
   "metadata": {},
   "outputs": [],
   "source": [
    "def check_price():\n",
    "    URL = \"https://www.amazon.com/Amazon-Fire-TV-Stick-4K-streaming-device/dp/B0CJM1GNFQ/ref=hw_24_h_dagw_d?pf_rd_p=3fdd9e6f-6d3e-4455-a02a-eeabce720632&pf_rd_r=54NMA1M09MD10NRF6GFH&sr=1-9-536c0d5e-79ba-421d-8970-56de02a627ab&ufe=INHOUSE_INSTALLMENTS%3AUS_IHI_5M_DEVICES\"\n",
    "\n",
    "    headers = {\"User-Agent\": \"Mozilla/5.0 (Windows NT 10.0; Win64; x64) AppleWebKit/537.36 (KHTML, like Gecko) Chrome/131.0.0.0 Safari/537.36\", \"Accept-Encoding\":\"gzip, deflate\", \"Accept\":\"text/html,application/xhtml+xml,application/xml;q=0.9,*/*;q=0.8\", \"DNT\":\"1\",\"Connection\":\"close\", \"Upgrade-Insecure-Requests\":\"1\"}\n",
    "\n",
    "    page = requests.get(URL, headers = headers)\n",
    "\n",
    "    soup1 = BeautifulSoup(page.content,\"html.parser\")\n",
    "\n",
    "    soup2 = BeautifulSoup(soup1.prettify(),'html.parser')\n",
    "\n",
    "    title = soup2.find(id= 'productTitle').get_text()\n",
    "    title= cleaned_title\n",
    "\n",
    "    price = soup2.find(id = 'corePrice_feature_div').get_text()\n",
    "    price = cleaned_price\n",
    "\n",
    "    import datetime\n",
    "    today = datetime.date.today()\n",
    "   \n",
    "    import csv \n",
    "    header = ['Title', 'Price', 'Date']\n",
    "    data = [title, price, today]\n",
    "\n",
    "    with open('AmazonWebDataset.csv', 'a+', newline='', encoding='UTF8') as f:\n",
    "        writer= csv.writer(f)\n",
    "        writer.writerow(data)\n",
    "\n"
   ]
  },
  {
   "cell_type": "code",
   "execution_count": null,
   "metadata": {},
   "outputs": [],
   "source": [
    "while(True):\n",
    "    check_price()\n",
    "    time.sleep(86400)"
   ]
  },
  {
   "cell_type": "code",
   "execution_count": 12,
   "metadata": {},
   "outputs": [
    {
     "name": "stdout",
     "output_type": "stream",
     "text": [
      "                                               Title   Price        Date\n",
      "0  Amazon Fire TV Stick 4K (newest model) with AI...  $27.99  2024-12-20\n",
      "1  Amazon Fire TV Stick 4K (newest model) with AI...  $27.99  2024-12-20\n"
     ]
    }
   ],
   "source": [
    "import pandas as pd\n",
    "\n",
    "df = pd.read_csv(r\"C:\\Users\\lasap\\OneDrive\\Documents\\Amazon Web Scraper\\AmazonWebDataset.csv\")\n",
    "\n",
    "print(df)"
   ]
  }
 ],
 "metadata": {
  "kernelspec": {
   "display_name": "Python 3",
   "language": "python",
   "name": "python3"
  },
  "language_info": {
   "codemirror_mode": {
    "name": "ipython",
    "version": 3
   },
   "file_extension": ".py",
   "mimetype": "text/x-python",
   "name": "python",
   "nbconvert_exporter": "python",
   "pygments_lexer": "ipython3",
   "version": "3.12.5"
  }
 },
 "nbformat": 4,
 "nbformat_minor": 2
}
